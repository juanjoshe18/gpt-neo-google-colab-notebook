{
  "nbformat": 4,
  "nbformat_minor": 0,
  "metadata": {
    "colab": {
      "name": "gpt-neo.ipynb",
      "provenance": []
    },
    "kernelspec": {
      "display_name": "Python 3",
      "name": "python3"
    },
    "language_info": {
      "name": "python"
    }
  },
  "cells": [
    {
      "cell_type": "markdown",
      "metadata": {
        "id": "OVO62u5CJPRa"
      },
      "source": [
        "# **Instalamos aitextgen**"
      ]
    },
    {
      "cell_type": "markdown",
      "metadata": {
        "id": "RMwrnzALM9Ac"
      },
      "source": [
        "si pone algún error no importa tu sigue"
      ]
    },
    {
      "cell_type": "code",
      "metadata": {
        "id": "MC6K6u4qGswY"
      },
      "source": [
        "!pip install -q aitextgen"
      ],
      "execution_count": null,
      "outputs": []
    },
    {
      "cell_type": "markdown",
      "metadata": {
        "id": "FQANwF3nJZWq"
      },
      "source": [
        "# **Importamos aitextgen**"
      ]
    },
    {
      "cell_type": "code",
      "metadata": {
        "id": "MGk_aJnZG8jv"
      },
      "source": [
        "from aitextgen import aitextgen"
      ],
      "execution_count": null,
      "outputs": []
    },
    {
      "cell_type": "markdown",
      "metadata": {
        "id": "wYGc6hiSHJXA"
      },
      "source": [
        "# **Descargamos el modelo de GPT-NEO**"
      ]
    },
    {
      "cell_type": "markdown",
      "metadata": {
        "id": "394yjpFtHnNg"
      },
      "source": [
        "si quieres cambiar el tipo de modelo que quieres utilizar en la parte en donde pone **model=\"EleutherAI/gpt-neo-125M\",to_gpu=True** en la parte de gpt-neo bórrelo y pongan otro modelo, en https://github.com/EleutherAI/gpt-neo teneis mas modelos para poder provar. "
      ]
    },
    {
      "cell_type": "code",
      "metadata": {
        "colab": {
          "base_uri": "https://localhost:8080/"
        },
        "id": "YsTOBV8VHU_j",
        "outputId": "055628af-886f-4c71-dee4-d37888e1455d"
      },
      "source": [
        "ai = aitextgen(model=\"EleutherAI/gpt-neo-125M\")"
      ],
      "execution_count": null,
      "outputs": [
        {
          "output_type": "stream",
          "text": [
            "loading file https://huggingface.co/EleutherAI/gpt-neo-125M/resolve/main/vocab.json from cache at aitextgen/08c00c4159e921d4c941ac75732643373aba509d9b352a82bbbb043a94058d98.a552555fdda56a1c7c9a285bccfd44ac8e4b9e26c8c9b307831b3ea3ac782b45\n",
            "loading file https://huggingface.co/EleutherAI/gpt-neo-125M/resolve/main/merges.txt from cache at aitextgen/12305762709d884a770efe7b0c68a7f4bc918da44e956058d43da0d12f7bea20.5d12962c5ee615a4c803841266e9c3be9a691a924f72d395d3a6c6c81157788b\n",
            "loading file https://huggingface.co/EleutherAI/gpt-neo-125M/resolve/main/tokenizer.json from cache at None\n",
            "loading file https://huggingface.co/EleutherAI/gpt-neo-125M/resolve/main/added_tokens.json from cache at None\n",
            "loading file https://huggingface.co/EleutherAI/gpt-neo-125M/resolve/main/special_tokens_map.json from cache at aitextgen/6c3239a63aaf46ec7625b38abfe41fc2ce0b25f90800aefe6526256340d4ab6d.2b8bf81243d08385c806171bc7ced6d2a0dcc7f896ca637f4e777418f7f0cc3c\n",
            "loading file https://huggingface.co/EleutherAI/gpt-neo-125M/resolve/main/tokenizer_config.json from cache at aitextgen/3cc88b3aa29bb2546db2dc21783292e2a086bb7158c7b5ceddeb24158a85c183.e74f7c3643ee79eb023ead36008be72fe726dada60fa3b2a0569925cfefa1e74\n"
          ],
          "name": "stderr"
        }
      ]
    },
    {
      "cell_type": "markdown",
      "metadata": {
        "id": "wmyTGMfLLORi"
      },
      "source": [
        "# **Ya puedes empezar a jugar con el**"
      ]
    },
    {
      "cell_type": "markdown",
      "metadata": {
        "id": "-u7IWY7-LYEE"
      },
      "source": [
        "si quieres cambiar la cantidad de palabras que genere, vete a **max_length = 50** y auméntalo, hasta 1000 me parece razonable, tan razonable que parece una historia para niños pequeños, cada vez que hagas cambios en la siquiente celda dale al botón con la flechita"
      ]
    },
    {
      "cell_type": "code",
      "metadata": {
        "id": "rRfZTBrbJDST"
      },
      "source": [
        "def ai_text(inp):\n",
        "  generated_text = ai.generate_one(max_length = 100, prompt = inp, no_repeat_ngram_size = 3) #repetition_penalty = 1.9)\n",
        "  return generated_text"
      ],
      "execution_count": null,
      "outputs": []
    },
    {
      "cell_type": "markdown",
      "metadata": {
        "id": "l7zU6ETvMhBy"
      },
      "source": [
        "en la siguiente celda pon la frase que quieres que autocomplete entre comillas como habrás visto y dale a la flechita para que se ejecute la celda"
      ]
    },
    {
      "cell_type": "code",
      "metadata": {
        "colab": {
          "base_uri": "https://localhost:8080/",
          "height": 69
        },
        "id": "xgEb9-wUJHSP",
        "outputId": "8c70de7a-2bb2-4623-cb85-d58fb14ce0f5"
      },
      "source": [
        "ai_text('''activities that we can do to increase self-esteem in adolescents: \n",
        "-''')"
      ],
      "execution_count": null,
      "outputs": [
        {
          "output_type": "execute_result",
          "data": {
            "application/vnd.google.colaboratory.intrinsic+json": {
              "type": "string"
            },
            "text/plain": [
              "'activities that we can do to increase self-esteem in adolescents: \\n- The idea of self-blame is to increase inactivity levels. \\n-- To increase self worth, self-efficacy, and self-confidence can be a tool to increase the effectiveness of school improvement programs. \\n\\n'"
            ]
          },
          "metadata": {
            "tags": []
          },
          "execution_count": 10
        }
      ]
    }
  ]
}